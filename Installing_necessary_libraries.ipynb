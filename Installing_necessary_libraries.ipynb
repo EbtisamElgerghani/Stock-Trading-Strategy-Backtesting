{
  "nbformat": 4,
  "nbformat_minor": 0,
  "metadata": {
    "colab": {
      "provenance": [],
      "authorship_tag": "ABX9TyMnLTajMxFezHz2pivYg5MO",
      "include_colab_link": true
    },
    "kernelspec": {
      "name": "python3",
      "display_name": "Python 3"
    },
    "language_info": {
      "name": "python"
    }
  },
  "cells": [
    {
      "cell_type": "markdown",
      "metadata": {
        "id": "view-in-github",
        "colab_type": "text"
      },
      "source": [
        "<a href=\"https://colab.research.google.com/github/EbtisamElgerghani/Stock-Trading-Strategy-Backtesting/blob/main/Installing_necessary_libraries.ipynb\" target=\"_parent\"><img src=\"https://colab.research.google.com/assets/colab-badge.svg\" alt=\"Open In Colab\"/></a>"
      ]
    },
    {
      "cell_type": "code",
      "execution_count": 2,
      "metadata": {
        "colab": {
          "base_uri": "https://localhost:8080/"
        },
        "id": "1vzDf4nFNp2f",
        "outputId": "6975ef74-9e5a-41ba-dcbd-4631c45e7447"
      },
      "outputs": [
        {
          "output_type": "stream",
          "name": "stdout",
          "text": [
            "Requirement already satisfied: polygon-api-client in /usr/local/lib/python3.10/dist-packages (1.14.2)\n",
            "Requirement already satisfied: certifi<2025.0.0,>=2022.5.18 in /usr/local/lib/python3.10/dist-packages (from polygon-api-client) (2024.7.4)\n",
            "Requirement already satisfied: urllib3<3.0.0,>=1.26.9 in /usr/local/lib/python3.10/dist-packages (from polygon-api-client) (2.0.7)\n",
            "Requirement already satisfied: websockets<13.0,>=10.3 in /usr/local/lib/python3.10/dist-packages (from polygon-api-client) (12.0)\n",
            "Requirement already satisfied: backtrader in /usr/local/lib/python3.10/dist-packages (1.9.78.123)\n",
            "/bin/bash: line 1: Pip: command not found\n"
          ]
        }
      ],
      "source": [
        "!pip install polygon-api-client\n",
        "!pip install backtrader\n",
        "!Pip install pandas"
      ]
    }
  ]
}